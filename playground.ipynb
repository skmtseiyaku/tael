{
 "cells": [
  {
   "cell_type": "markdown",
   "metadata": {},
   "source": [
    "### Libs and Flags"
   ]
  },
  {
   "cell_type": "code",
   "execution_count": 50,
   "metadata": {},
   "outputs": [],
   "source": [
    "#import xalpha as xa\n",
    "import csv\n",
    "import os\n",
    "import pandas as pd\n",
    "import numpy as np\n",
    "\n",
    "def flagFileNotFound():\n",
    "    return -1\n",
    "\n",
    "def flagDirNotFound():\n",
    "    return -1"
   ]
  },
  {
   "cell_type": "markdown",
   "metadata": {},
   "source": [
    "### Directory"
   ]
  },
  {
   "cell_type": "code",
   "execution_count": null,
   "metadata": {},
   "outputs": [],
   "source": [
    "db_folder = './db/'"
   ]
  },
  {
   "cell_type": "markdown",
   "metadata": {},
   "source": [
    "### Data"
   ]
  },
  {
   "cell_type": "code",
   "execution_count": 47,
   "metadata": {},
   "outputs": [],
   "source": [
    "#init = {'date':'', 'code':'', 'name':'','type':'', 'transaction':'', 'profit':'', 'holding':'', 'return':'', 'yield':''}\n",
    "_columns = ['date', 'code', 'name','type', 'transaction', 'profit', 'holding', 'return', 'yield']\n",
    "newData = ['1900-00-00', '000002', 'fund1', 'A', '100', '0', '', '', '']\n",
    "csv_file = db_folder + newData[1] + '.csv'\n",
    "\n",
    "if not os.path.exists(db_folder):\n",
    "    flagDirNotFound()\n",
    "    os.makedirs(db_folder)\n",
    "\n",
    "if not os.path.exists(csv_file):\n",
    "    flagFileNotFound()\n",
    "    with open(csv_file, mode='w', newline='') as file:\n",
    "        writer = csv.writer(file)\n",
    "        writer.writerow(_columns)\n",
    "        writer.writerow(newData)\n",
    "else:\n",
    "    with open(csv_file, mode='a', newline='') as file:\n",
    "        writer = csv.writer(file)\n",
    "        writer.writerow(newData)\n"
   ]
  },
  {
   "cell_type": "markdown",
   "metadata": {},
   "source": [
    "### Analysis"
   ]
  },
  {
   "cell_type": "code",
   "execution_count": null,
   "metadata": {},
   "outputs": [],
   "source": [
    "if not os.path.exists(db_folder):\n",
    "    flagDirNotFound()\n",
    "else:\n",
    "    dbs = [fileName for fileName in os.listdir(db_folder) if fileName.endswith('.csv')]\n",
    "\n",
    "\n",
    "\n",
    "\n",
    "\n",
    "\n",
    "\n",
    "\n",
    "-"
   ]
  }
 ],
 "metadata": {
  "kernelspec": {
   "display_name": "Python 3",
   "language": "python",
   "name": "python3"
  },
  "language_info": {
   "codemirror_mode": {
    "name": "ipython",
    "version": 3
   },
   "file_extension": ".py",
   "mimetype": "text/x-python",
   "name": "python",
   "nbconvert_exporter": "python",
   "pygments_lexer": "ipython3",
   "version": "3.13.0"
  }
 },
 "nbformat": 4,
 "nbformat_minor": 2
}
